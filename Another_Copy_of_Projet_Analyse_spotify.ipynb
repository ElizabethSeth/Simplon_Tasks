{
  "cells": [
    {
      "cell_type": "markdown",
      "metadata": {
        "id": "view-in-github",
        "colab_type": "text"
      },
      "source": [
        "<a href=\"https://colab.research.google.com/github/ElizabethSeth/Simplon_tasks/blob/Spark_brief_colab/Another_Copy_of_Projet_Analyse_spotify.ipynb\" target=\"_parent\"><img src=\"https://colab.research.google.com/assets/colab-badge.svg\" alt=\"Open In Colab\"/></a>"
      ]
    },
    {
      "cell_type": "markdown",
      "metadata": {
        "id": "GKAB_bTnOPl1"
      },
      "source": [
        "## Projet Spark : Analyse de données d'un service de streaming musical\n",
        "\n",
        "\n",
        "#### Context du projet  :\n",
        "On considère un dataset d'un service de streaming musical à explorer.\n",
        "\n",
        "L'objectif est de tirer des informations utiles sur l'utilisation de la plateforme, le comportement des utilisateurs et les tendances d'écoute, en utilisant les concepts fondamentaux de Spark, pour manipuler et analyser des données à grande échelle.\n",
        "\n",
        "#### Dataset :\n",
        "Le dataset utilisé, \"spotify_logs.json\", contient des logs / journaux d'événements d'une application de streaming musical. Chaque entrée du dataset correspond à une interaction de l'utilisateur avec le service de streaming. Les attributs incluent des informations sur l'utilisateur, telles que son ID, son genre, le niveau d'abonnement, ainsi que des détails sur les événements comme la chanson écoutée, la page visitée, l'heure de l'événement, etc.\n",
        "\n",
        "#### Objectif du Projet :\n",
        "Le projet consiste à réaliser une série d'analyses et de calculs sur ces données en utilisant Apache Spark\n",
        "\n",
        "\n",
        "Ressource utile:\n",
        "https://spark.apache.org/docs/latest/api/python/reference/pyspark.sql/index.html\n",
        "\n",
        "## Travail demandé et Livrables :\n",
        "\n",
        "- Ecrire le code Pyspark qui permet de répondre aux questions ci dessous.\n",
        "- Rendre votre notebook avec la trace d'exécution de vos cellules.\n",
        "\n"
      ]
    },
    {
      "cell_type": "markdown",
      "source": [
        "### **Apache Spark is a data processing platform that allows for high-speed computation and analysis of large datasets in a distributed environment. Spark is designed to handle big data, offering high performance through the use of distributed memory and optimized algorithms.**"
      ],
      "metadata": {
        "id": "B4ByspOZKMdA"
      }
    },
    {
      "cell_type": "code",
      "execution_count": 36,
      "metadata": {
        "id": "cGo2onx4OPl5",
        "outputId": "c4ab1006-20f1-4f91-8dad-60a80ed68ebf",
        "colab": {
          "base_uri": "https://localhost:8080/"
        }
      },
      "outputs": [
        {
          "output_type": "stream",
          "name": "stdout",
          "text": [
            "Requirement already satisfied: pyspark in /usr/local/lib/python3.10/dist-packages (3.5.2)\n",
            "Requirement already satisfied: py4j==0.10.9.7 in /usr/local/lib/python3.10/dist-packages (from pyspark) (0.10.9.7)\n"
          ]
        }
      ],
      "source": [
        "pip install pyspark"
      ]
    },
    {
      "cell_type": "code",
      "execution_count": 37,
      "metadata": {
        "id": "IgN2SJROOPl6"
      },
      "outputs": [],
      "source": [
        "#Import des libraries\n",
        "from pyspark.sql import SparkSession\n",
        "from pyspark.sql.functions import isnan, count, when,countDistinct, col, desc, udf, col, sort_array, asc, avg\n",
        "from pyspark.sql.functions import sum as Fsum\n",
        "from pyspark.sql.window import Window\n",
        "from pyspark.sql.types import IntegerType, StringType\n",
        "\n",
        "\n",
        "import datetime\n",
        "\n",
        "import numpy as np\n",
        "import pandas as pd\n",
        "%matplotlib inline\n",
        "import matplotlib.pyplot as plt\n",
        "import seaborn as sns"
      ]
    },
    {
      "cell_type": "markdown",
      "metadata": {
        "id": "TdDjbD_nOPl7"
      },
      "source": [
        "##  **Charger les données**\n",
        "\n",
        "- Importer toutes autres libraries dont vous pourriez avoir besoin\n",
        "- Instancier une session Spark\n",
        "- Lire le dataset \"spotify_logs.json\"\n",
        "- afficher le schéma des données\n"
      ]
    },
    {
      "cell_type": "code",
      "execution_count": 38,
      "metadata": {
        "id": "JZKh1pUEOPl7",
        "outputId": "efa561a1-75c5-424f-a5ed-bf80dbc14d52",
        "colab": {
          "base_uri": "https://localhost:8080/",
          "height": 219
        }
      },
      "outputs": [
        {
          "output_type": "execute_result",
          "data": {
            "text/plain": [
              "<pyspark.sql.session.SparkSession at 0x79a9eb742320>"
            ],
            "text/html": [
              "\n",
              "            <div>\n",
              "                <p><b>SparkSession - in-memory</b></p>\n",
              "                \n",
              "        <div>\n",
              "            <p><b>SparkContext</b></p>\n",
              "\n",
              "            <p><a href=\"http://988aedc63e4e:4040\">Spark UI</a></p>\n",
              "\n",
              "            <dl>\n",
              "              <dt>Version</dt>\n",
              "                <dd><code>v3.5.2</code></dd>\n",
              "              <dt>Master</dt>\n",
              "                <dd><code>local[*]</code></dd>\n",
              "              <dt>AppName</dt>\n",
              "                <dd><code>Spotify</code></dd>\n",
              "            </dl>\n",
              "        </div>\n",
              "        \n",
              "            </div>\n",
              "        "
            ]
          },
          "metadata": {},
          "execution_count": 38
        }
      ],
      "source": [
        "#votre code ici\n",
        "sc = SparkSession \\\n",
        "    .builder \\\n",
        "    .appName(\"Spotify\")\\\n",
        "    .getOrCreate()\n",
        "sc\n"
      ]
    },
    {
      "cell_type": "code",
      "execution_count": 4,
      "metadata": {
        "id": "deeFnge-OPl8",
        "outputId": "174c4f2c-4ef0-4e99-9b75-020b27e609e3",
        "colab": {
          "base_uri": "https://localhost:8080/"
        }
      },
      "outputs": [
        {
          "output_type": "stream",
          "name": "stdout",
          "text": [
            "+--------------------+---------+---------+------+-------------+---------+---------+-----+--------------------+------+--------+-------------+---------+--------------------+------+-------------+--------------------+------+\n",
            "|              artist|     auth|firstName|gender|itemInSession| lastName|   length|level|            location|method|    page| registration|sessionId|                song|status|           ts|           userAgent|userId|\n",
            "+--------------------+---------+---------+------+-------------+---------+---------+-----+--------------------+------+--------+-------------+---------+--------------------+------+-------------+--------------------+------+\n",
            "|       Showaddywaddy|Logged In|  Kenneth|     M|          112| Matthews|232.93342| paid|Charlotte-Concord...|   PUT|NextSong|1509380319284|     5132|Christmas Tears W...|   200|1513720872284|\"Mozilla/5.0 (Win...|  1046|\n",
            "|          Lily Allen|Logged In|Elizabeth|     F|            7|    Chase|195.23873| free|Shreveport-Bossie...|   PUT|NextSong|1512718541284|     5027|       Cheryl Tweedy|   200|1513720878284|\"Mozilla/5.0 (Win...|  1000|\n",
            "|Cobra Starship Fe...|Logged In|     Vera|     F|            6|Blackwell|196.20526| paid|          Racine, WI|   PUT|NextSong|1499855749284|     5516|Good Girls Go Bad...|   200|1513720881284|\"Mozilla/5.0 (Mac...|  2219|\n",
            "|          Alex Smoke|Logged In|   Sophee|     F|            8|   Barker|405.99465| paid|San Luis Obispo-P...|   PUT|NextSong|1513009647284|     2372| Don't See The Point|   200|1513720905284|\"Mozilla/5.0 (Win...|  2373|\n",
            "|                NULL|Logged In|   Jordyn|     F|            0|    Jones|     NULL| free|        Syracuse, NY|   GET|    Home|1513648531284|     1746|                NULL|   200|1513720913284|\"Mozilla/5.0 (Mac...|  1747|\n",
            "|                NULL|Logged In|   Jordyn|     F|            1|    Jones|     NULL| free|        Syracuse, NY|   GET|Settings|1513648531284|     1746|                NULL|   200|1513720932284|\"Mozilla/5.0 (Mac...|  1747|\n",
            "|              Redman|Logged In|    Paige|     F|            0|   Hunter|154.53995| free|       Brownwood, TX|   PUT|NextSong|1498414068284|     4406|        Smoke Buddah|   200|1513720955284|\"Mozilla/5.0 (Mac...|  1162|\n",
            "|     Ulrich Schnauss|Logged In|  Gabriel|     M|            2|     Koch|402.93832| paid|     Panama City, FL|   PUT|NextSong|1505820418284|     1060|           On My Own|   200|1513720959284|Mozilla/5.0 (Wind...|  1061|\n",
            "|                NULL|Logged In|    Mason|     M|            2|   Thomas|     NULL| paid|Indianapolis-Carm...|   GET|    Home|1487015656284|     5661|                NULL|   200|1513720959284|Mozilla/5.0 (comp...|   748|\n",
            "|                NULL|Logged In|Alexander|     M|            0|    Short|     NULL| free|       Green Bay, WI|   GET|    Home|1513594398284|     3689|                NULL|   200|1513720980284|\"Mozilla/5.0 (Win...|   597|\n",
            "|               Jay-Z|Logged In|  Micheal|     M|           23|   Morgan|223.26812| paid|        Sterling, CO|   PUT|NextSong|1485051492284|     5175|Heart Of The City...|   200|1513720983284|\"Mozilla/5.0 (Win...|  1806|\n",
            "|         Evanescence|Logged In|    Mason|     M|            3|   Thomas|237.11302| paid|Indianapolis-Carm...|   PUT|NextSong|1487015656284|     5661|    Bring Me To Life|   200|1513720993284|Mozilla/5.0 (comp...|   748|\n",
            "|     Scissor Sisters|Logged In|   Justin|     M|           82|    Jones|218.01751| paid|          Dayton, TN|   PUT|NextSong|1504706730284|     1175|               Laura|   200|1513721031284|\"Mozilla/5.0 (Win...|  1176|\n",
            "|        3 Doors Down|Logged In|     Zoie|     F|           28|   Wright|237.13914| paid|Chicago-Napervill...|   PUT|NextSong|1512172030284|     2163|    Here Without You|   200|1513721045284|\"Mozilla/5.0 (Mac...|  2164|\n",
            "|       George Younce|Logged In|  Malachi|     M|            3|     Lane|191.68608| free|     Sioux Falls, SD|   PUT|NextSong|1510109243284|     5272|This Old House w/...|   200|1513721058284|Mozilla/5.0 (Wind...|  2146|\n",
            "|              Aly-Us|Logged In|     Vera|     F|            7|Blackwell|383.58159| paid|          Racine, WI|   PUT|NextSong|1499855749284|     5516|Follow Me (Club Mix)|   200|1513721077284|\"Mozilla/5.0 (Mac...|  2219|\n",
            "|                NULL|Logged In|   Justin|     M|           83|    Jones|     NULL| paid|          Dayton, TN|   GET|    Home|1504706730284|     1175|                NULL|   200|1513721088284|\"Mozilla/5.0 (Win...|  1176|\n",
            "|            BjÃÂ¶rk|Logged In|    Elena|     F|            0|   Newman|348.57751| free|Boston-Cambridge-...|   PUT|NextSong|1513494341284|     2903|                Undo|   200|1513721095284|Mozilla/5.0 (Wind...|  2904|\n",
            "|      David Bromberg|Logged In|Alexander|     M|            1|    Short|146.36363| free|       Green Bay, WI|   PUT|NextSong|1513594398284|     3689|Sheebeg And Sheemore|   200|1513721097284|\"Mozilla/5.0 (Win...|   597|\n",
            "|          Nickelback|Logged In|  Abigail|     F|            4| Davidson|238.18404| paid|Lansing-East Lans...|   PUT|NextSong|1513173389284|     4591|Far Away (Album V...|   200|1513721104284|\"Mozilla/5.0 (Mac...|   226|\n",
            "+--------------------+---------+---------+------+-------------+---------+---------+-----+--------------------+------+--------+-------------+---------+--------------------+------+-------------+--------------------+------+\n",
            "only showing top 20 rows\n",
            "\n"
          ]
        }
      ],
      "source": [
        "df = sc.read.json('spotify_logs.json')\n",
        "df.show()\n"
      ]
    },
    {
      "cell_type": "code",
      "execution_count": 5,
      "metadata": {
        "id": "m3CFsqEmOPl8",
        "outputId": "f69c791d-6c9f-4c39-b8ab-8f9184ca04e2",
        "colab": {
          "base_uri": "https://localhost:8080/"
        }
      },
      "outputs": [
        {
          "output_type": "stream",
          "name": "stdout",
          "text": [
            "+--------------------+-----+\n",
            "|              artist|count|\n",
            "+--------------------+-----+\n",
            "|                NULL| 1653|\n",
            "|            Coldplay|   83|\n",
            "|       Kings Of Leon|   69|\n",
            "|Florence + The Ma...|   52|\n",
            "|            BjÃÂ¶rk|   46|\n",
            "|       Dwight Yoakam|   45|\n",
            "|       Justin Bieber|   43|\n",
            "|      The Black Keys|   40|\n",
            "|         OneRepublic|   37|\n",
            "|        Jack Johnson|   36|\n",
            "|                Muse|   36|\n",
            "|           Radiohead|   31|\n",
            "|        Taylor Swift|   29|\n",
            "|          Lily Allen|   28|\n",
            "|Barry Tuckwell/Ac...|   28|\n",
            "|               Train|   28|\n",
            "|           Daft Punk|   27|\n",
            "|          Nickelback|   27|\n",
            "|           Metallica|   27|\n",
            "|          Kanye West|   26|\n",
            "+--------------------+-----+\n",
            "only showing top 20 rows\n",
            "\n"
          ]
        }
      ],
      "source": [
        "top_songs = df.groupBy('artist').count().orderBy('count', ascending=False)\n",
        "top_songs.show()"
      ]
    },
    {
      "cell_type": "code",
      "execution_count": 6,
      "metadata": {
        "id": "anUpz-x4OPl9",
        "outputId": "86618d0a-e6a4-4613-fffc-af75ea84f1f2",
        "colab": {
          "base_uri": "https://localhost:8080/"
        }
      },
      "outputs": [
        {
          "output_type": "stream",
          "name": "stdout",
          "text": [
            "+------------------+\n",
            "|avg_songs_per_user|\n",
            "+------------------+\n",
            "| 8.658713692946058|\n",
            "+------------------+\n",
            "\n"
          ]
        }
      ],
      "source": [
        "\n",
        "avg_songs_per_user = df.groupBy(\"userId\").agg(count(\"song\").alias(\"num_songs\"))\n",
        "avg_songs = avg_songs_per_user.agg({\"num_songs\": \"avg\"}).withColumnRenamed(\"avg(num_songs)\", \"avg_songs_per_user\")\n",
        "avg_songs.show()"
      ]
    },
    {
      "cell_type": "markdown",
      "metadata": {
        "id": "zDwOYKSeOPl9"
      },
      "source": [
        "## **Questions: Exploration et Analyse de données**\n",
        "2. Combien de logs sont présents dans le dataset ?\n",
        "3. Combien d'artistes sont présents dans le dataset?\n",
        "4. Trouver le nombre d'utilisateurs inscrits dans le dataset ?\n",
        "5. Quels sont les types de niveau d'abonnement (level) disponibles dans le dataset ?\n",
        "6. Quelles sont les pages disponibles dans le dataset et combien de fois chacune d'elles a-t-elle été visitée ?\n",
        "\n",
        "7. Combien de logs a enregistré l'utilisateur d'id: 1138,\n",
        "\n",
        "   Afficher les 5 premiers et les 5 derniers logs de cet utilisateur, que remarquez vous?\n",
        "8. Combien de pages l'utilisateur avec l'id \"\" (empty string) n'a-t-il PAS visitée, afficher les .\n",
        "9. De quel type d'utilisateurs s'agit il à votre avis?\n",
        "10. Combien d'utilisateurs de chaque genre sont présents dans le dataset ?\n",
        "11. Visualiser la répartition, Y a-t-il une différence significative entre le nombre d'utilisateurs de chaque genre ?\n",
        "12. Quel est l'artiste le plus écouté dans le dataset et combien de fois ses chansons ont-elles été jouées ?\n",
        "13. Combien de chansons différentes ont été jouées dans l'ensemble des logs ?\n",
        "\n",
        "14. Visualiser le nombre de chansons jouées par heure,  À quelle heure de la journée les utilisateurs écoutent-ils le plus de chansons ?\n",
        "15. Trouver les utilisateurs qui ont fait des upgrade et downgrade de leur abonnement?\n",
        "\n",
        "16. Créer une vue temporaire répondre avec des requêtes SQL aux questions suivantes:\n",
        "\n",
        " a- Afficher les 3 premiers logs de l'utilisateur d'id 1046\n",
        "\n",
        " b- Trouver les pages que les utilisateurs ayant empty userID ont visité\n",
        "\n",
        " c- Combien de chansons ont été jouées par l'artiste le plus joué\n",
        "17. Proposer un axe d'analyse de votre choix ?\n"
      ]
    },
    {
      "cell_type": "code",
      "execution_count": 7,
      "metadata": {
        "id": "3WM9RUBTOPl9",
        "outputId": "14b81fdf-397e-4399-83d9-1a203a274865",
        "colab": {
          "base_uri": "https://localhost:8080/"
        }
      },
      "outputs": [
        {
          "output_type": "stream",
          "name": "stdout",
          "text": [
            "Number of logs in the dataset: 10000\n"
          ]
        }
      ],
      "source": [
        "# Combien de logs sont présents dans le dataset ?\n",
        "print(f\"Number of logs in the dataset: {df.count()}\")"
      ]
    },
    {
      "cell_type": "code",
      "execution_count": 10,
      "metadata": {
        "id": "0rzrkss2OPl-",
        "outputId": "f8a38748-37f6-48f9-9685-5ddde3b52961",
        "colab": {
          "base_uri": "https://localhost:8080/"
        }
      },
      "outputs": [
        {
          "output_type": "stream",
          "name": "stdout",
          "text": [
            "Number of artists in the dataset: 10000\n",
            "Number of distinct artists in the dataset: 3618\n",
            "+--------------------+\n",
            "|              artist|\n",
            "+--------------------+\n",
            "|      The Black Keys|\n",
            "|        STRATOVARIUS|\n",
            "|      The Chameleons|\n",
            "|Dashboard Confess...|\n",
            "|      Jarabe De Palo|\n",
            "|        Ziggy Marley|\n",
            "|        Yann Tiersen|\n",
            "|  The Watts Prophets|\n",
            "|            Goldfish|\n",
            "|           Kate Nash|\n",
            "|              DJ Taz|\n",
            "|    Jane's Addiction|\n",
            "|         Eva Cassidy|\n",
            "|               Rufio|\n",
            "|           Los Lobos|\n",
            "|         Silverstein|\n",
            "|        Rhett Miller|\n",
            "|              Nebula|\n",
            "|Yonder Mountain S...|\n",
            "|     Groove Coverage|\n",
            "+--------------------+\n",
            "only showing top 20 rows\n",
            "\n",
            "Number of artists in the dataset: None\n"
          ]
        }
      ],
      "source": [
        "#Combien d'artistes sont présents dans le dataset?\n",
        "print(f\"Number of artists in the dataset: {df.select('artist').count()}\")\n",
        "print(f\"Number of distinct artists in the dataset: {df.select('artist').distinct().count()}\")\n",
        "print(f\"Number of artists in the dataset: {df.select('artist').distinct().show()}\")"
      ]
    },
    {
      "cell_type": "code",
      "execution_count": null,
      "metadata": {
        "id": "uvNTRTzLOPl-",
        "outputId": "c936d1da-9c8f-4c23-fa1a-8dd633111fb4",
        "colab": {
          "base_uri": "https://localhost:8080/"
        }
      },
      "outputs": [
        {
          "output_type": "stream",
          "name": "stdout",
          "text": [
            "Number of users in the this dataset: 964\n"
          ]
        }
      ],
      "source": [
        "#Trouver le nombre d'utilisateurs inscrits dans le dataset ?\n",
        "print(f\"Number of users in the this dataset: {df.select('userId').distinct().count()}\")"
      ]
    },
    {
      "cell_type": "code",
      "source": [
        "#Quels sont les types de niveau d'abonnement (level) disponibles dans le dataset ?\n",
        "print(f\"Levels available in this dataset: {df.select('level').distinct().count()}\")\n",
        "df.groupby(\"level\").count().show()"
      ],
      "metadata": {
        "id": "1blyP0x8WuKv",
        "outputId": "74c43c79-8d27-43c9-8851-cbfa14c790fe",
        "colab": {
          "base_uri": "https://localhost:8080/"
        }
      },
      "execution_count": 11,
      "outputs": [
        {
          "output_type": "stream",
          "name": "stdout",
          "text": [
            "Levels available in this dataset: 2\n",
            "+-----+-----+\n",
            "|level|count|\n",
            "+-----+-----+\n",
            "| free| 3076|\n",
            "| paid| 6924|\n",
            "+-----+-----+\n",
            "\n"
          ]
        }
      ]
    },
    {
      "cell_type": "code",
      "source": [
        "# Quelles sont les pages disponibles dans le dataset et combien de fois chacune d'elles a-t-elle été visitée ?\n",
        "print(f\"Pages available in this dataset: {df.select('page').distinct().count()}\")\n",
        "df.groupBy('page').count().orderBy('count', ascending=False).show()\n"
      ],
      "metadata": {
        "id": "gJIg2CCfYBEU",
        "outputId": "0585e837-420d-4b23-d4b3-135c2b55c2eb",
        "colab": {
          "base_uri": "https://localhost:8080/"
        }
      },
      "execution_count": 15,
      "outputs": [
        {
          "output_type": "stream",
          "name": "stdout",
          "text": [
            "Pages available in this dataset: 13\n",
            "+----------------+-----+\n",
            "|            page|count|\n",
            "+----------------+-----+\n",
            "|        NextSong| 8347|\n",
            "|            Home| 1126|\n",
            "|           Login|  126|\n",
            "|          Logout|  100|\n",
            "|       Downgrade|   75|\n",
            "|        Settings|   59|\n",
            "|            Help|   58|\n",
            "|           About|   43|\n",
            "|         Upgrade|   32|\n",
            "|           Error|   12|\n",
            "|   Save Settings|   11|\n",
            "|  Submit Upgrade|   10|\n",
            "|Submit Downgrade|    1|\n",
            "+----------------+-----+\n",
            "\n"
          ]
        }
      ]
    },
    {
      "cell_type": "code",
      "source": [
        "#Combien de logs a enregistré l'utilisateur d'id: 1138\n",
        "print(f\"Number of logs for userId that have id== 1138: {df.filter(df.userId== 1138).count()}\")\n",
        "df.filter(df.userId== 1138).sort('ts').show(5)\n",
        "df.filter(df.userId== 1138).sort('ts', ascending=False).show(5)\n"
      ],
      "metadata": {
        "id": "0_5MzAHcWuTD",
        "outputId": "b62f6c97-3c60-4309-e798-8a389f876a36",
        "colab": {
          "base_uri": "https://localhost:8080/"
        }
      },
      "execution_count": null,
      "outputs": [
        {
          "output_type": "stream",
          "name": "stdout",
          "text": [
            "Number of logs for userId that have id== 1138: 68\n",
            "+-------------+---------+---------+------+-------------+--------+---------+-----+--------------------+------+--------+-------------+---------+--------------------+------+-------------+--------------------+------+\n",
            "|       artist|     auth|firstName|gender|itemInSession|lastName|   length|level|            location|method|    page| registration|sessionId|                song|status|           ts|           userAgent|userId|\n",
            "+-------------+---------+---------+------+-------------+--------+---------+-----+--------------------+------+--------+-------------+---------+--------------------+------+-------------+--------------------+------+\n",
            "|         NULL|Logged In|    Kelly|     F|            2|  Newton|     NULL| paid|Houston-The Woodl...|   GET|    Home|1513283366284|     5566|                NULL|   200|1513729066284|Mozilla/5.0 (Wind...|  1138|\n",
            "|    Black Box|Logged In|    Kelly|     F|            3|  Newton|247.03955| paid|Houston-The Woodl...|   PUT|NextSong|1513283366284|     5566| Everybody Everybody|   200|1513729066284|Mozilla/5.0 (Wind...|  1138|\n",
            "|  Future Rock|Logged In|    Kelly|     F|            4|  Newton|239.90812| paid|Houston-The Woodl...|   PUT|NextSong|1513283366284|     5566|               Gears|   200|1513729313284|Mozilla/5.0 (Wind...|  1138|\n",
            "|Kings Of Leon|Logged In|    Kelly|     F|            5|  Newton|231.81016| paid|Houston-The Woodl...|   PUT|NextSong|1513283366284|     5566|        Use Somebody|   200|1513729552284|Mozilla/5.0 (Wind...|  1138|\n",
            "|        Queen|Logged In|    Kelly|     F|            6|  Newton|218.95791| paid|Houston-The Woodl...|   PUT|NextSong|1513283366284|     5566|Love Of My Life (...|   200|1513729783284|Mozilla/5.0 (Wind...|  1138|\n",
            "+-------------+---------+---------+------+-------------+--------+---------+-----+--------------------+------+--------+-------------+---------+--------------------+------+-------------+--------------------+------+\n",
            "only showing top 5 rows\n",
            "\n",
            "+--------------------+---------+---------+------+-------------+--------+--------+-----+--------------------+------+----------------+-------------+---------+--------------------+------+-------------+--------------------+------+\n",
            "|              artist|     auth|firstName|gender|itemInSession|lastName|  length|level|            location|method|            page| registration|sessionId|                song|status|           ts|           userAgent|userId|\n",
            "+--------------------+---------+---------+------+-------------+--------+--------+-----+--------------------+------+----------------+-------------+---------+--------------------+------+-------------+--------------------+------+\n",
            "|FrÃÂ©meaux & Ass...|Logged In|    Kelly|     F|            0|  Newton|28.96934| free|Houston-The Woodl...|   PUT|        NextSong|1513283366284|     7011|Grenouilles Manti...|   200|1513833144284|Mozilla/5.0 (Wind...|  1138|\n",
            "|                NULL|Logged In|    Kelly|     F|            0|  Newton|    NULL| free|Houston-The Woodl...|   GET|            Home|1513283366284|     6947|                NULL|   200|1513821430284|Mozilla/5.0 (Wind...|  1138|\n",
            "|         The Killers|Logged In|    Kelly|     F|            0|  Newton|229.0673| free|Houston-The Woodl...|   PUT|        NextSong|1513283366284|     6206|               Bones|   200|1513814880284|Mozilla/5.0 (Wind...|  1138|\n",
            "|                NULL|Logged In|    Kelly|     F|           25|  Newton|    NULL| free|Houston-The Woodl...|   GET|            Home|1513283366284|     5931|                NULL|   200|1513768456284|Mozilla/5.0 (Wind...|  1138|\n",
            "|                NULL|Logged In|    Kelly|     F|           24|  Newton|    NULL| paid|Houston-The Woodl...|   PUT|Submit Downgrade|1513283366284|     5931|                NULL|   307|1513768454284|Mozilla/5.0 (Wind...|  1138|\n",
            "+--------------------+---------+---------+------+-------------+--------+--------+-----+--------------------+------+----------------+-------------+---------+--------------------+------+-------------+--------------------+------+\n",
            "only showing top 5 rows\n",
            "\n"
          ]
        }
      ]
    },
    {
      "cell_type": "code",
      "source": [
        "#Combien de pages l'utilisateur avec l'id \"\" (empty string) n'a-t-il PAS visitée, afficher les .\n",
        "\n",
        "print(f\"Number of users pages with '' : {df.filter(df.userId == '').select('page').distinct().count()}\")\n",
        "print(f\"Number of users pages with '' : {df.filter(df.userId == '').select('page').distinct().show()}\")\n",
        "\n",
        "\n",
        "all_pages = df.select(\"page\").distinct()\n",
        "\n",
        "# Get pages visited by the empty userId\n",
        "empty_user_pages = df.filter(col(\"userId\") == \"\").select(\"page\").distinct()\n",
        "\n",
        "# Find pages that the empty userId has not visited\n",
        "pages_not_visited = all_pages.subtract(empty_user_pages)\n",
        "\n",
        "# Show the pages that the empty userId has not visited\n",
        "pages_not_visited.show()"
      ],
      "metadata": {
        "id": "Dxoa0d7rWuZj",
        "outputId": "72649087-bbc6-4cf5-e84a-cedc2c160c85",
        "colab": {
          "base_uri": "https://localhost:8080/"
        }
      },
      "execution_count": 16,
      "outputs": [
        {
          "output_type": "stream",
          "name": "stdout",
          "text": [
            "Number of users pages with '' : 4\n",
            "+-----+\n",
            "| page|\n",
            "+-----+\n",
            "| Home|\n",
            "|About|\n",
            "|Login|\n",
            "| Help|\n",
            "+-----+\n",
            "\n",
            "Number of users pages with '' : None\n",
            "+----------------+\n",
            "|            page|\n",
            "+----------------+\n",
            "|Submit Downgrade|\n",
            "|       Downgrade|\n",
            "|          Logout|\n",
            "|   Save Settings|\n",
            "|        Settings|\n",
            "|        NextSong|\n",
            "|         Upgrade|\n",
            "|           Error|\n",
            "|  Submit Upgrade|\n",
            "+----------------+\n",
            "\n"
          ]
        }
      ]
    },
    {
      "cell_type": "code",
      "source": [
        "#De quel type d'utilisateurs s'agit il à votre avis?\n",
        "print(f\"Type of users : {df.select('gender').distinct().count()}\")\n",
        "print(f\"there three type of users : {df.select('gender').distinct().show()}\")\n"
      ],
      "metadata": {
        "id": "e2_7eHd2Wuq2",
        "outputId": "26c6e138-f8d2-4795-a6c9-43a43ea3c6ac",
        "colab": {
          "base_uri": "https://localhost:8080/"
        }
      },
      "execution_count": null,
      "outputs": [
        {
          "output_type": "stream",
          "name": "stdout",
          "text": [
            "Type of users : 3\n",
            "+------+\n",
            "|gender|\n",
            "+------+\n",
            "|     F|\n",
            "|     M|\n",
            "|  NULL|\n",
            "+------+\n",
            "\n",
            "there three type of users : None\n"
          ]
        }
      ]
    },
    {
      "cell_type": "code",
      "source": [
        "# Combien d'utilisateurs de chaque genre sont présents dans le dataset ?\n",
        "gender_count = df.select(\"userId\", \"gender\").distinct().groupBy(\"gender\").count()\n",
        "print(f\"NUmber of users per gender : {gender_count.show()}\")"
      ],
      "metadata": {
        "id": "hma1DGBSkcn2",
        "outputId": "f61d0984-16a8-476b-c9fc-091e77d432f0",
        "colab": {
          "base_uri": "https://localhost:8080/"
        }
      },
      "execution_count": 18,
      "outputs": [
        {
          "output_type": "stream",
          "name": "stdout",
          "text": [
            "+------+-----+\n",
            "|gender|count|\n",
            "+------+-----+\n",
            "|     F|  462|\n",
            "|  NULL|    1|\n",
            "|     M|  501|\n",
            "+------+-----+\n",
            "\n",
            "NUmber of users per gender : None\n"
          ]
        }
      ]
    },
    {
      "cell_type": "code",
      "source": [
        "gender_count_pd = gender_count.toPandas()\n",
        "sns.set(style=\"whitegrid\")\n",
        "plt.figure(figsize=(8, 6))\n",
        "sns.barplot(x='gender', y='count', data=gender_count_pd, palette='pastel')\n",
        "plt.title('Number of Users by Gender')\n",
        "plt.xlabel('Gender')\n",
        "plt.ylabel('Number of Users')\n",
        "plt.show()\n",
        ""
      ],
      "metadata": {
        "id": "brmC15ueVm4E",
        "outputId": "9d3cf475-89c4-4876-f1d7-b28679e49934",
        "colab": {
          "base_uri": "https://localhost:8080/",
          "height": 680
        }
      },
      "execution_count": 22,
      "outputs": [
        {
          "output_type": "stream",
          "name": "stderr",
          "text": [
            "<ipython-input-22-27b266a85bdc>:4: FutureWarning: \n",
            "\n",
            "Passing `palette` without assigning `hue` is deprecated and will be removed in v0.14.0. Assign the `x` variable to `hue` and set `legend=False` for the same effect.\n",
            "\n",
            "  sns.barplot(x='gender', y='count', data=gender_count_pd, palette='pastel')\n"
          ]
        },
        {
          "output_type": "display_data",
          "data": {
            "text/plain": [
              "<Figure size 800x600 with 1 Axes>"
            ],
            "image/png": "[encoded data removed]"
          },
          "metadata": {}
        }
      ]
    },
    {
      "cell_type": "code",
      "source": [
        "# Quel est l'artiste le plus écouté dans le dataset et combien de fois ses chansons ont-elles été jouées ?\n",
        "filtered_df = df.filter(df.artist.isNotNull())\n",
        "top_songs = filtered_df.groupBy('artist').count().orderBy('count', ascending=False)\n",
        "top_songs.show(5)"
      ],
      "metadata": {
        "id": "x3dkoKVfkcq4",
        "outputId": "5893fb86-651d-4e29-f7de-45cbc8ecaf99",
        "colab": {
          "base_uri": "https://localhost:8080/"
        }
      },
      "execution_count": 26,
      "outputs": [
        {
          "output_type": "stream",
          "name": "stdout",
          "text": [
            "+--------------------+-----+\n",
            "|              artist|count|\n",
            "+--------------------+-----+\n",
            "|            Coldplay|   83|\n",
            "|       Kings Of Leon|   69|\n",
            "|Florence + The Ma...|   52|\n",
            "|            BjÃÂ¶rk|   46|\n",
            "|       Dwight Yoakam|   45|\n",
            "+--------------------+-----+\n",
            "only showing top 5 rows\n",
            "\n"
          ]
        }
      ]
    },
    {
      "cell_type": "code",
      "source": [
        "# Combien de chansons différentes ont été jouées dans l'ensemble des logs ?\n",
        "unique_songs_count = df.select(countDistinct(\"song\")).collect()[0][0]\n",
        "print(f\"Number of unique songs played: {unique_songs_count}\")\n",
        "unique_songs_count = df.select(countDistinct(\"song\")).show()"
      ],
      "metadata": {
        "id": "2ojcfFNWkcul",
        "outputId": "b564b0c9-48c3-4007-ac5d-543f79bf6136",
        "colab": {
          "base_uri": "https://localhost:8080/"
        }
      },
      "execution_count": 29,
      "outputs": [
        {
          "output_type": "stream",
          "name": "stdout",
          "text": [
            "Number of unique songs played: 6125\n",
            "+--------------------+\n",
            "|count(DISTINCT song)|\n",
            "+--------------------+\n",
            "|                6125|\n",
            "+--------------------+\n",
            "\n"
          ]
        }
      ]
    },
    {
      "cell_type": "code",
      "source": [
        "# Trouver les utilisateurs qui ont fait des upgrade et downgrade de leur abonnement?\n",
        "print(f\" Users that upgrade and downgrade their abon : {df.filter((df.page == 'Submit Upgrade') | (df.page == 'Submit Downgrade')).count()}\")\n",
        "print(f\" Users that upgrade and downgrade their abon : {df.filter((df.page == 'Submit Upgrade') | (df.page == 'Submit Downgrade')).show()}\")"
      ],
      "metadata": {
        "id": "iwynIHkokcyS",
        "outputId": "9cc22f4c-6c33-4908-d32a-bd3c628aa4df",
        "colab": {
          "base_uri": "https://localhost:8080/"
        }
      },
      "execution_count": 30,
      "outputs": [
        {
          "output_type": "stream",
          "name": "stdout",
          "text": [
            " Users that upgrade and downgrade their abon : 11\n",
            "+------+---------+---------+------+-------------+---------+------+-----+--------------------+------+----------------+-------------+---------+----+------+-------------+--------------------+------+\n",
            "|artist|     auth|firstName|gender|itemInSession| lastName|length|level|            location|method|            page| registration|sessionId|song|status|           ts|           userAgent|userId|\n",
            "+------+---------+---------+------+-------------+---------+------+-----+--------------------+------+----------------+-------------+---------+----+------+-------------+--------------------+------+\n",
            "|  NULL|Logged In|   Ashton|     M|            4|   Nelson|  NULL| free|Los Angeles-Long ...|   PUT|  Submit Upgrade|1510608931284|      511|NULL|   307|1513730197284|Mozilla/5.0 (Wind...|   512|\n",
            "|  NULL|Logged In|   Dreden|     M|            3|Rodriguez|  NULL| free|New York-Newark-J...|   PUT|  Submit Upgrade|1513620661284|     5846|NULL|   307|1513739104284|Mozilla/5.0 (Wind...|  1232|\n",
            "|  NULL|Logged In| Jonathan|     M|            2|  Webster|  NULL| free|Los Angeles-Long ...|   PUT|  Submit Upgrade|1505697773284|     1078|NULL|   307|1513749216284|\"Mozilla/5.0 (Mac...|  1079|\n",
            "|  NULL|Logged In|   London|     F|            2|Dominguez|  NULL| free|        Syracuse, NY|   PUT|  Submit Upgrade|1512967206284|      539|NULL|   307|1513753826284|\"Mozilla/5.0 (Mac...|   540|\n",
            "|  NULL|Logged In|    Kelly|     F|           24|   Newton|  NULL| paid|Houston-The Woodl...|   PUT|Submit Downgrade|1513283366284|     5931|NULL|   307|1513768454284|Mozilla/5.0 (Wind...|  1138|\n",
            "|  NULL|Logged In|     Jack|     M|            7|    Kelly|  NULL| free|Los Angeles-Long ...|   PUT|  Submit Upgrade|1492304380284|     5341|NULL|   307|1513781766284|\"Mozilla/5.0 (Mac...|  1869|\n",
            "|  NULL|Logged In|  Ryleigh|     F|            2| Melendez|  NULL| free|Dallas-Fort Worth...|   PUT|  Submit Upgrade|1503040317284|     2080|NULL|   307|1513783320284|\"Mozilla/5.0 (Mac...|  2081|\n",
            "|  NULL|Logged In| Isabella|     F|            3|   Davies|  NULL| free|Los Angeles-Long ...|   PUT|  Submit Upgrade|1512429051284|     4900|NULL|   307|1513788509284|\"Mozilla/5.0 (Win...|  2652|\n",
            "|  NULL|Logged In|     Lucy|     F|            4|   Ramsey|  NULL| free|San Antonio-New B...|   PUT|  Submit Upgrade|1509869833284|     6660|NULL|   307|1513793239284|Mozilla/5.0 (Wind...|  1374|\n",
            "|  NULL|Logged In|    Jewel|     F|            3|    Clark|  NULL| free|San Diego-Carlsba...|   PUT|  Submit Upgrade|1513022978284|     6286|NULL|   307|1513814900284|\"Mozilla/5.0 (Mac...|  2713|\n",
            "|  NULL|Logged In|   Melody|     F|            2| Williams|  NULL| free|Austin-Round Rock...|   PUT|  Submit Upgrade|1509202309284|     5562|NULL|   307|1513825672284|Mozilla/5.0 (Wind...|  2359|\n",
            "+------+---------+---------+------+-------------+---------+------+-----+--------------------+------+----------------+-------------+---------+----+------+-------------+--------------------+------+\n",
            "\n",
            " Users that upgrade and downgrade their abon : None\n"
          ]
        }
      ]
    },
    {
      "cell_type": "code",
      "source": [
        "from pyspark.sql.functions import hour, from_unixtime\n",
        "#Convert the 'ts' column from BIGINT to TIMESTAMP by dividing by 1000 and using from_unixtime\n",
        "df = df.withColumn(\"timestamp\", (col(\"ts\") / 1000).cast(\"timestamp\"))\n",
        "songs_per_hour = df.withColumn(\"hour\", hour(col(\"timestamp\"))) \\\n",
        "                   .groupBy(\"hour\") \\\n",
        "                   .count() \\\n",
        "                   .orderBy(\"hour\")\n",
        "\n",
        "songs_per_hour.show()\n",
        "\n",
        "pandas_df = songs_per_hour.toPandas()\n",
        "plt.figure(figsize=(10, 6))\n",
        "plt.bar(pandas_df['hour'], pandas_df['count'], color='skyblue')\n",
        "plt.xticks(range(24))\n",
        "plt.xlabel('Hour of the day')\n",
        "plt.ylabel('Number of songs played')\n",
        "plt.title('Number of songs played per hour')\n",
        "plt.grid(axis='y')\n",
        "plt.show()"
      ],
      "metadata": {
        "id": "Ry2lzpYRkc4y",
        "outputId": "58b19da5-bbc4-46de-91ec-203963d55628",
        "colab": {
          "base_uri": "https://localhost:8080/",
          "height": 1000
        }
      },
      "execution_count": 32,
      "outputs": [
        {
          "output_type": "stream",
          "name": "stdout",
          "text": [
            "+----+-----+\n",
            "|hour|count|\n",
            "+----+-----+\n",
            "|   0|  548|\n",
            "|   1|  538|\n",
            "|   2|  444|\n",
            "|   3|  367|\n",
            "|   4|  426|\n",
            "|   5|  346|\n",
            "|   6|  432|\n",
            "|   7|  424|\n",
            "|   8|  467|\n",
            "|   9|  294|\n",
            "|  10|  256|\n",
            "|  11|  268|\n",
            "|  12|  297|\n",
            "|  13|  428|\n",
            "|  14|  587|\n",
            "|  15|  579|\n",
            "|  16|  577|\n",
            "|  17|  499|\n",
            "|  18|  421|\n",
            "|  19|  350|\n",
            "+----+-----+\n",
            "only showing top 20 rows\n",
            "\n"
          ]
        },
        {
          "output_type": "display_data",
          "data": {
            "text/plain": [
              "<Figure size 1000x600 with 1 Axes>"
            ],
            "image/png": "[encoded data removed]"
          },
          "metadata": {}
        }
      ]
    },
    {
      "cell_type": "code",
      "source": [
        "# Créer une vue temporaire répondre avec des requêtes SQL aux questions suivantes:\n",
        "# a- Afficher les 3 premiers logs de l'utilisateur d'id\n",
        "from pyspark.sql import SparkSession\n",
        "spark = SparkSession.builder.appName(\"Logs\").getOrCreate()\n",
        "df = spark.read.json(\"spotify_logs.json\")\n",
        "df.createOrReplaceTempView(\"logs\")\n",
        "spark.sql(\"select * from logs where userId == 1046\").show(3)\n"
      ],
      "metadata": {
        "id": "uDdCDv2svTHe",
        "outputId": "c247f9dc-8ace-4e76-9aa4-2b284c19d24c",
        "colab": {
          "base_uri": "https://localhost:8080/"
        }
      },
      "execution_count": 41,
      "outputs": [
        {
          "output_type": "stream",
          "name": "stdout",
          "text": [
            "+-------------+---------+---------+------+-------------+--------+---------+-----+--------------------+------+--------+-------------+---------+--------------------+------+-------------+--------------------+------+\n",
            "|       artist|     auth|firstName|gender|itemInSession|lastName|   length|level|            location|method|    page| registration|sessionId|                song|status|           ts|           userAgent|userId|\n",
            "+-------------+---------+---------+------+-------------+--------+---------+-----+--------------------+------+--------+-------------+---------+--------------------+------+-------------+--------------------+------+\n",
            "|Showaddywaddy|Logged In|  Kenneth|     M|          112|Matthews|232.93342| paid|Charlotte-Concord...|   PUT|NextSong|1509380319284|     5132|Christmas Tears W...|   200|1513720872284|\"Mozilla/5.0 (Win...|  1046|\n",
            "|Darius Rucker|Logged In|  Kenneth|     M|          113|Matthews|206.00118| paid|Charlotte-Concord...|   PUT|NextSong|1509380319284|     5132|  Be Wary Of A Woman|   200|1513721104284|\"Mozilla/5.0 (Win...|  1046|\n",
            "| Public Enemy|Logged In|  Kenneth|     M|          114|Matthews|281.05098| paid|Charlotte-Concord...|   PUT|NextSong|1509380319284|     5132|   Public Enemy No.1|   200|1513721310284|\"Mozilla/5.0 (Win...|  1046|\n",
            "+-------------+---------+---------+------+-------------+--------+---------+-----+--------------------+------+--------+-------------+---------+--------------------+------+-------------+--------------------+------+\n",
            "only showing top 3 rows\n",
            "\n"
          ]
        }
      ]
    },
    {
      "cell_type": "code",
      "source": [
        "#b- Trouver les pages que les utilisateurs ayant empty userID ont visité\n",
        "spark.sql(\"select page from logs where userId == ''\").show()"
      ],
      "metadata": {
        "id": "1KmYYiL0vTLK",
        "colab": {
          "base_uri": "https://localhost:8080/"
        },
        "outputId": "7a8726b8-0edf-4017-b837-05befc4ad00c"
      },
      "execution_count": 42,
      "outputs": [
        {
          "output_type": "stream",
          "name": "stdout",
          "text": [
            "+-----+\n",
            "| page|\n",
            "+-----+\n",
            "|Login|\n",
            "| Home|\n",
            "| Home|\n",
            "| Home|\n",
            "|Login|\n",
            "|Login|\n",
            "| Home|\n",
            "| Home|\n",
            "|Login|\n",
            "| Home|\n",
            "|Login|\n",
            "| Home|\n",
            "| Help|\n",
            "| Home|\n",
            "|Login|\n",
            "| Home|\n",
            "|Login|\n",
            "| Home|\n",
            "|Login|\n",
            "| Home|\n",
            "+-----+\n",
            "only showing top 20 rows\n",
            "\n"
          ]
        }
      ]
    },
    {
      "cell_type": "code",
      "source": [
        "# c- Combien de chansons ont été jouées par l'artiste le plus joué\n",
        "spark.sql(\"select artist, count(song) as nb_song from logs group by artist order by nb_song desc\").show(1)"
      ],
      "metadata": {
        "id": "Fnn-PkyPvTO8",
        "colab": {
          "base_uri": "https://localhost:8080/"
        },
        "outputId": "5bb3ac73-250d-44db-d9b2-d9a3f906ed28"
      },
      "execution_count": 43,
      "outputs": [
        {
          "output_type": "stream",
          "name": "stdout",
          "text": [
            "+--------+-------+\n",
            "|  artist|nb_song|\n",
            "+--------+-------+\n",
            "|Coldplay|     83|\n",
            "+--------+-------+\n",
            "only showing top 1 row\n",
            "\n"
          ]
        }
      ]
    },
    {
      "cell_type": "markdown",
      "source": [
        "## Bar chart showing average songs played per session by account level."
      ],
      "metadata": {
        "id": "d57bWMt2rSsg"
      }
    },
    {
      "cell_type": "code",
      "source": [
        "df = df.withColumn('ts', from_unixtime(df['ts'] / 1000))\n",
        "\n",
        "session_engagement = df.filter(df['page'] == 'NextSong') \\\n",
        "                      .groupBy(['userId', 'sessionId', 'level']) \\\n",
        "                      .count() \\\n",
        "                      .withColumnRenamed('count', 'songs_played')\n",
        "avg_songs_per_session = session_engagement.groupBy('level') \\\n",
        "                                          .agg(avg('songs_played').alias('avg_songs_played'))\n",
        "\n",
        "avg_songs_pd = avg_songs_per_session.toPandas()\n",
        "plt.figure(figsize=(8, 5))\n",
        "sns.barplot(data=avg_songs_pd, x='level', y='avg_songs_played', palette='viridis')\n",
        "plt.title('Average Number of Songs Played Per Session by Account Level')\n",
        "plt.xlabel('Account Level')\n",
        "plt.ylabel('Average Number of Songs Played')\n",
        "plt.show()"
      ],
      "metadata": {
        "colab": {
          "base_uri": "https://localhost:8080/",
          "height": 603
        },
        "id": "y1vympsRPsO5",
        "outputId": "d336617e-b868-4f6d-83c3-abecfe6caf9a"
      },
      "execution_count": 44,
      "outputs": [
        {
          "output_type": "stream",
          "name": "stderr",
          "text": [
            "<ipython-input-44-15d62252dcf6>:16: FutureWarning: \n",
            "\n",
            "Passing `palette` without assigning `hue` is deprecated and will be removed in v0.14.0. Assign the `x` variable to `hue` and set `legend=False` for the same effect.\n",
            "\n",
            "  sns.barplot(data=avg_songs_pd, x='level', y='avg_songs_played', palette='viridis')\n"
          ]
        },
        {
          "output_type": "display_data",
          "data": {
            "text/plain": [
              "<Figure size 800x500 with 1 Axes>"
            ],
            "image/png": "[encoded data removed]"
          },
          "metadata": {}
        }
      ]
    },
    {
      "cell_type": "markdown",
      "source": [
        "## 1. Analysis:\n",
        "\n",
        "Group and count page visits by account level.\n",
        "## 2. Visualization:\n",
        "\n",
        "Plot bar chart showing visit distribution by page type and account level."
      ],
      "metadata": {
        "id": "-ZzCm_TRq2V-"
      }
    },
    {
      "cell_type": "code",
      "source": [
        "# Analyzing page visits by account level\n",
        "page_visits = df.groupBy(['level', 'page']).count()\n",
        "\n",
        "page_visits_pd = page_visits.toPandas()\n",
        "plt.figure(figsize=(10, 6))\n",
        "sns.barplot(data=page_visits_pd, x='page', y='count', hue='level', palette='viridis')\n",
        "plt.title('Distribution of Page Visits by Account Level')\n",
        "plt.xlabel('Page Type')\n",
        "plt.ylabel('Number of Visits')\n",
        "plt.xticks(rotation=45)\n",
        "plt.show()\n"
      ],
      "metadata": {
        "colab": {
          "base_uri": "https://localhost:8080/",
          "height": 654
        },
        "id": "tw-dGB80QfF4",
        "outputId": "8f2c3a99-8e3b-4641-8668-3acefb469a3e"
      },
      "execution_count": null,
      "outputs": [
        {
          "output_type": "display_data",
          "data": {
            "text/plain": [
              "<Figure size 1000x600 with 1 Axes>"
            ],
            "image/png": "[encoded data removed]"
          },
          "metadata": {}
        }
      ]
    }
  ],
  "metadata": {
    "kernelspec": {
      "display_name": "Python 3 (ipykernel)",
      "language": "python",
      "name": "python3"
    },
    "language_info": {
      "codemirror_mode": {
        "name": "ipython",
        "version": 3
      },
      "file_extension": ".py",
      "mimetype": "text/x-python",
      "name": "python",
      "nbconvert_exporter": "python",
      "pygments_lexer": "ipython3",
      "version": "3.9.12"
    },
    "toc": {
      "base_numbering": 1,
      "nav_menu": {},
      "number_sections": true,
      "sideBar": true,
      "skip_h1_title": true,
      "title_cell": "Table of Contents",
      "title_sidebar": "Contents",
      "toc_cell": false,
      "toc_position": {
        "height": "calc(100% - 180px)",
        "left": "10px",
        "top": "150px",
        "width": "165px"
      },
      "toc_section_display": true,
      "toc_window_display": true
    },
    "colab": {
      "provenance": [],
      "include_colab_link": true
    }
  },
  "nbformat": 4,
  "nbformat_minor": 0
}