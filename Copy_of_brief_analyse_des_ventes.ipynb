{
  "cells": [
    {
      "cell_type": "markdown",
      "metadata": {
        "id": "view-in-github",
        "colab_type": "text"
      },
      "source": [
        "<a href=\"https://colab.research.google.com/github/ElizabethSeth/Simplon_tasks/blob/Plateforme_docker/Copy_of_brief_analyse_des_ventes.ipynb\" target=\"_parent\"><img src=\"https://colab.research.google.com/assets/colab-badge.svg\" alt=\"Open In Colab\"/></a>"
      ]
    },
    {
      "cell_type": "markdown",
      "metadata": {
        "id": "61zfVas-SBz_"
      },
      "source": [
        "## Applications Spark\n"
      ]
    },
    {
      "cell_type": "markdown",
      "metadata": {
        "id": "ksVsf-lfSB0B"
      },
      "source": [
        "## Ex 1\n",
        "\n",
        "Ecrire un programme qui permet d'analyser les ventes d'un magasin\n",
        "le dataset définit 3 colonnes : client produit prix\n",
        "    \n",
        "    * Afficher le nombre total de ventes\n",
        "    * Afficher le nombre de clients (distincts)\n",
        "    * Afficher le total des ventes\n",
        "    * Afficher le produit le plus vendu\n",
        "    \n",
        "    \n",
        "faites l'exercice une fois en utilisant les RDD et une 2ème fois en utilisant les DataFrame"
      ]
    },
    {
      "cell_type": "code",
      "source": [
        "pip install pyspark"
      ],
      "metadata": {
        "id": "lmMgdaJiUIws",
        "outputId": "1a219050-5b44-4271-f8a6-5c84e7e4bf17",
        "colab": {
          "base_uri": "https://localhost:8080/"
        }
      },
      "execution_count": 4,
      "outputs": [
        {
          "output_type": "stream",
          "name": "stdout",
          "text": [
            "Collecting pyspark\n",
            "  Downloading pyspark-3.5.2.tar.gz (317.3 MB)\n",
            "\u001b[2K     \u001b[90m━━━━━━━━━━━━━━━━━━━━━━━━━━━━━━━━━━━━━━━━\u001b[0m \u001b[32m317.3/317.3 MB\u001b[0m \u001b[31m5.0 MB/s\u001b[0m eta \u001b[36m0:00:00\u001b[0m\n",
            "\u001b[?25h  Preparing metadata (setup.py) ... \u001b[?25l\u001b[?25hdone\n",
            "Requirement already satisfied: py4j==0.10.9.7 in /usr/local/lib/python3.10/dist-packages (from pyspark) (0.10.9.7)\n",
            "Building wheels for collected packages: pyspark\n",
            "  Building wheel for pyspark (setup.py) ... \u001b[?25l\u001b[?25hdone\n",
            "  Created wheel for pyspark: filename=pyspark-3.5.2-py2.py3-none-any.whl size=317812365 sha256=09085d940a7f5b8e4f108fa61f087e58edaf50066ff7cad250be6c9cc47819ce\n",
            "  Stored in directory: /root/.cache/pip/wheels/34/34/bd/03944534c44b677cd5859f248090daa9fb27b3c8f8e5f49574\n",
            "Successfully built pyspark\n",
            "Installing collected packages: pyspark\n",
            "Successfully installed pyspark-3.5.2\n"
          ]
        }
      ]
    },
    {
      "cell_type": "code",
      "source": [
        "from pyspark import SparkContext"
      ],
      "metadata": {
        "id": "SGKUb--TUI5m"
      },
      "execution_count": 5,
      "outputs": []
    },
    {
      "cell_type": "code",
      "source": [
        "sc = SparkContext(\"local\", \"Sales Analysis\")\n",
        "\n",
        "# Sample data\n",
        "data = [\n",
        "    (\"Bill\", \"iPhone Cover\", 9.99),\n",
        "    (\"Bill\", \"Headphones\", 5.49),\n",
        "    (\"Jack\", \"iPhone Cover\", 9.99),\n",
        "    (\"John\", \"Samsung Galaxy Cover\", 8.95),\n",
        "    (\"Bob\", \"iPad Cover\", 5.49)\n",
        "]"
      ],
      "metadata": {
        "id": "uDV950GEUHOM"
      },
      "execution_count": 6,
      "outputs": []
    },
    {
      "cell_type": "code",
      "source": [
        "rdd = sc.parallelize(data)\n",
        "\n",
        "# Nombre total de ventes\n",
        "total_sales = rdd.count()\n",
        "print(\"Nombre total de ventes:\", total_sales)\n",
        "\n",
        "# Nombre de clients distincts\n",
        "distinct_customers = rdd.map(lambda x: x[0]).distinct().count()\n",
        "print(\"Nombre de clients distincts:\", distinct_customers)\n",
        "\n",
        "# Total des ventes\n",
        "total_revenue = rdd.map(lambda x: x[2]).sum()\n",
        "print(\"Total des ventes:\", total_revenue)\n",
        "\n",
        "\n",
        "product_sales = rdd.map(lambda x: (x[1], 1)).reduceByKey(lambda x, y: x + y)\n",
        "most_sold_product = product_sales.reduce(lambda x, y: x if x[1] > y[1] else y)\n",
        "\n",
        "print(\"Produit le plus vendu:\", most_sold_product[0])\n",
        "\n",
        "# Fermer le SparkContext\n",
        "sc.stop()"
      ],
      "metadata": {
        "id": "db48t-EOT8d2",
        "outputId": "d7385abc-af14-47e7-a469-1c6ea7b27bb1",
        "colab": {
          "base_uri": "https://localhost:8080/"
        }
      },
      "execution_count": 8,
      "outputs": [
        {
          "output_type": "stream",
          "name": "stdout",
          "text": [
            "Nombre total de ventes: 5\n",
            "Nombre de clients distincts: 4\n",
            "Total des ventes: 39.910000000000004\n",
            "Produit le plus vendu: iPhone Cover\n"
          ]
        }
      ]
    },
    {
      "cell_type": "markdown",
      "metadata": {
        "id": "3sdaVze6SB0C"
      },
      "source": [
        "sample Data:\n",
        "\n",
        "Bill\tiPhone Cover\t9.99\n",
        "\n",
        "Bill\tHeadphones\t5.49\n",
        "\n",
        "Jack\tiPhone Cover\t9.99\n",
        "\n",
        "John\tSamsung Galaxy Cover\t8.95\n",
        "\n",
        "Bob\tiPad Cover\t5.49\n",
        "\n"
      ]
    },
    {
      "cell_type": "code",
      "execution_count": null,
      "metadata": {
        "id": "4C-EKw-USB0C"
      },
      "outputs": [],
      "source": [
        "from pyspark.sql import SparkSession\n",
        "from pyspark.sql.functions import countDistinct, avg, stddev, col, desc\n"
      ]
    },
    {
      "cell_type": "code",
      "execution_count": null,
      "metadata": {
        "id": "tbHP42NVSB0C",
        "outputId": "2cc065af-a175-4b7c-bb02-bbbe2ef9ef08"
      },
      "outputs": [
        {
          "name": "stdout",
          "output_type": "stream",
          "text": [
            "+------+--------------------+----+\n",
            "|Client|             produit|prix|\n",
            "+------+--------------------+----+\n",
            "|  Bill|        iPhone Cover|9.99|\n",
            "|  Bill|          Headphones|5.49|\n",
            "|  Jack|        iPhone Cover|9.99|\n",
            "|  John|Samsung Galaxy Cover|8.95|\n",
            "|   Bob|          iPad Cover|5.49|\n",
            "+------+--------------------+----+\n",
            "\n"
          ]
        }
      ],
      "source": [
        "#TBD"
      ]
    },
    {
      "cell_type": "code",
      "execution_count": null,
      "metadata": {
        "id": "eYtKLpnDSB0D"
      },
      "outputs": [],
      "source": []
    },
    {
      "cell_type": "code",
      "execution_count": null,
      "metadata": {
        "id": "Qv_subVOSB0D"
      },
      "outputs": [],
      "source": []
    }
  ],
  "metadata": {
    "kernelspec": {
      "display_name": "Python 3 (ipykernel)",
      "language": "python",
      "name": "python3"
    },
    "language_info": {
      "codemirror_mode": {
        "name": "ipython",
        "version": 3
      },
      "file_extension": ".py",
      "mimetype": "text/x-python",
      "name": "python",
      "nbconvert_exporter": "python",
      "pygments_lexer": "ipython3",
      "version": "3.9.12"
    },
    "toc": {
      "base_numbering": 1,
      "nav_menu": {},
      "number_sections": true,
      "sideBar": true,
      "skip_h1_title": true,
      "title_cell": "Table of Contents",
      "title_sidebar": "Contents",
      "toc_cell": false,
      "toc_position": {},
      "toc_section_display": true,
      "toc_window_display": true
    },
    "colab": {
      "provenance": [],
      "include_colab_link": true
    }
  },
  "nbformat": 4,
  "nbformat_minor": 0
}